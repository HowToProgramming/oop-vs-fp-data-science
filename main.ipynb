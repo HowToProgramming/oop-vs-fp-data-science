{
 "cells": [
  {
   "cell_type": "markdown",
   "metadata": {},
   "source": [
    "# Object Oriented vs. Functional Programming in Data Science : Distribution"
   ]
  },
  {
   "cell_type": "markdown",
   "metadata": {},
   "source": [
    "## Introduction"
   ]
  },
  {
   "cell_type": "markdown",
   "metadata": {},
   "source": [
    "There are two interesting and most popular programming approaches in industry right now, which are **Object Oriented Programming** and **Functional Programming**. In this article, we are going to compare two approaches in Data Science, starting with **Probability Distributions**."
   ]
  },
  {
   "cell_type": "markdown",
   "metadata": {},
   "source": [
    "## Objectives"
   ]
  },
  {
   "cell_type": "markdown",
   "metadata": {},
   "source": [
    "In this article, our objective is to create classes and functions to calculate the **Probability Density Function**, **Cumulative Density Function** and **Inverse Cumulative Density Function** of three Probability Distributions, **Normal Distribution**, **Student's t-Distribution** and **f-Distribution**. We will use both **Object Oriented Programming** and **Functional Programming** in this procedure."
   ]
  },
  {
   "cell_type": "markdown",
   "metadata": {},
   "source": [
    "## Code"
   ]
  },
  {
   "cell_type": "markdown",
   "metadata": {},
   "source": [
    "### Importing Necessary Modules"
   ]
  },
  {
   "cell_type": "markdown",
   "metadata": {},
   "source": [
    "For simplification, we are going to use the probability distributions from `scipy.stats`. We can import those distributions directly from this module."
   ]
  },
  {
   "cell_type": "code",
   "execution_count": 1,
   "metadata": {},
   "outputs": [],
   "source": [
    "from scipy.stats import norm, t, f"
   ]
  },
  {
   "cell_type": "markdown",
   "metadata": {},
   "source": [
    "### Object Oriented: Creating Class for Probability Distributions"
   ]
  },
  {
   "cell_type": "markdown",
   "metadata": {},
   "source": [
    "In this procedure for **Object Oriented Programming**, we begin by creating a base class named `Distribution` which will contain three methods\n",
    "\n",
    "- `.pdf`: Probability Density Function of the given distribution\n",
    "- `.cdf`: Cumulative Density Function of the given distribution\n",
    "- `.inverse`: Inverse Cumulative Density Function of the given distribution\n",
    "\n",
    "This class will be initialized using `dist` which is the distributions from `scipy.stats` and `**kwargs` which is any keyword arguments. `**kwargs` is for generalize the child classes in the distributions with hyperparameters, for example, `Degree of Freedom`."
   ]
  },
  {
   "cell_type": "code",
   "execution_count": 2,
   "metadata": {},
   "outputs": [],
   "source": [
    "class Distribution():\n",
    "    def __init__(self, dist, **kwargs):\n",
    "        self.dist = dist\n",
    "        self.kwargs = kwargs\n",
    "    \n",
    "    def pdf(self, x):\n",
    "        return self.dist.pdf(x, **self.kwargs)\n",
    "    \n",
    "    def cdf(self, x):\n",
    "        return self.dist.cdf(x, **self.kwargs)\n",
    "    \n",
    "    def inverse(self, p):\n",
    "        return self.dist.ppf(p, **self.kwargs)"
   ]
  },
  {
   "cell_type": "markdown",
   "metadata": {},
   "source": [
    "### Functional Programming: Creating functions for Probability Distributions"
   ]
  },
  {
   "cell_type": "markdown",
   "metadata": {},
   "source": [
    "In this approach, we create three functions that returns a function, these are three following functions we defined\n",
    "\n",
    "- `dist_pdf` returns a function for **Probability Density Function** which take the parameter x and return the **Probability Density Function** of x\n",
    "- `dist_cdf` returns a function for **Cumulative Density Function** which take the parameter x and return the **Cumulative Density Function** of x\n",
    "- `dist_inverse` returns a function for **Inverse Cumulative Density Function** which take the parameter x and return the **Inverse Cumulative Density Function** of x\n",
    "\n",
    "All functions take parameter `distribution` from `scipy.stats` and additional keyword arguments (for example, `Degree of Freedom`)"
   ]
  },
  {
   "cell_type": "code",
   "execution_count": 3,
   "metadata": {},
   "outputs": [],
   "source": [
    "def dist_pdf(distribution, **kwargs):\n",
    "    def dist(x):\n",
    "        return distribution.pdf(x, **kwargs)\n",
    "    return dist\n",
    "\n",
    "def dist_cdf(distribution, **kwargs):\n",
    "    def dist(x):\n",
    "        return distribution.cdf(x, **kwargs)\n",
    "    return dist\n",
    "\n",
    "def dist_inverse(distribution, **kwargs):\n",
    "    def dist(x):\n",
    "        return distribution.ppf(x, **kwargs)\n",
    "    return dist"
   ]
  },
  {
   "cell_type": "markdown",
   "metadata": {},
   "source": [
    "### Normal Distribution"
   ]
  },
  {
   "cell_type": "markdown",
   "metadata": {},
   "source": [
    "For **Object Oriented Programming** Approach, we create a an extension class from `Distribution` and initialize them using `norm` from `scipy.stats`"
   ]
  },
  {
   "cell_type": "code",
   "execution_count": 4,
   "metadata": {},
   "outputs": [],
   "source": [
    "class NormalDistribution(Distribution):\n",
    "    def __init__(self):\n",
    "        super().__init__(norm)"
   ]
  },
  {
   "cell_type": "markdown",
   "metadata": {},
   "source": [
    "We then create a `normal_oop` for a Normal Distribution Class and `normal_fp_pdf`, `normal_fp_cdf` and `normal_fp_inverse` for **Functional Programming** Approach "
   ]
  },
  {
   "cell_type": "code",
   "execution_count": 5,
   "metadata": {},
   "outputs": [],
   "source": [
    "normal_oop = NormalDistribution()\n",
    "normal_fp_pdf, normal_fp_cdf, normal_fp_inverse = dist_pdf(norm), dist_cdf(norm), dist_inverse(norm)"
   ]
  },
  {
   "cell_type": "markdown",
   "metadata": {},
   "source": [
    "We then create test values to test our both approaches"
   ]
  },
  {
   "cell_type": "code",
   "execution_count": 6,
   "metadata": {},
   "outputs": [],
   "source": [
    "test_value = 1.645\n",
    "test_p = 0.95"
   ]
  },
  {
   "cell_type": "markdown",
   "metadata": {},
   "source": [
    "This is the result of **Object Oriented Programming** approach"
   ]
  },
  {
   "cell_type": "code",
   "execution_count": 7,
   "metadata": {},
   "outputs": [
    {
     "name": "stdout",
     "output_type": "stream",
     "text": [
      "pdf of 1.645 0.10311081109198142\n",
      "cdf of 1.645 0.9500150944608786\n",
      "inverse of 0.95 1.6448536269514722\n"
     ]
    }
   ],
   "source": [
    "print(f\"pdf of {test_value}\", normal_oop.pdf(test_value))\n",
    "print(f\"cdf of {test_value}\", normal_oop.cdf(test_value))\n",
    "print(f\"inverse of {test_p}\", normal_oop.inverse(test_p))"
   ]
  },
  {
   "cell_type": "markdown",
   "metadata": {},
   "source": [
    "and this is the result of **Function Programming** approach"
   ]
  },
  {
   "cell_type": "code",
   "execution_count": 8,
   "metadata": {},
   "outputs": [
    {
     "name": "stdout",
     "output_type": "stream",
     "text": [
      "pdf of 1.645 0.10311081109198142\n",
      "cdf of 1.645 0.9500150944608786\n",
      "inverse of 0.95 1.6448536269514722\n"
     ]
    }
   ],
   "source": [
    "print(f\"pdf of {test_value}\", normal_fp_pdf(test_value))\n",
    "print(f\"cdf of {test_value}\", normal_fp_cdf(test_value))\n",
    "print(f\"inverse of {test_p}\", normal_fp_inverse(test_p))"
   ]
  },
  {
   "cell_type": "markdown",
   "metadata": {},
   "source": [
    "### Student's t-Distribution"
   ]
  },
  {
   "cell_type": "markdown",
   "metadata": {},
   "source": [
    "For **Object Oriented Programming** Approach, we create a an extension class from `Distribution` and initialize them using `t` from `scipy.stats` and additional parameter `df` for Degree of Freedom"
   ]
  },
  {
   "cell_type": "code",
   "execution_count": 9,
   "metadata": {},
   "outputs": [],
   "source": [
    "class tDistribution(Distribution):\n",
    "    def __init__(self, df):\n",
    "        super().__init__(t, df=df)"
   ]
  },
  {
   "cell_type": "markdown",
   "metadata": {},
   "source": [
    "We then again create class and functions for two approaches with `degree of freedom = 100`"
   ]
  },
  {
   "cell_type": "code",
   "execution_count": 10,
   "metadata": {},
   "outputs": [],
   "source": [
    "test_t_df = 100\n",
    "\n",
    "t_oop = tDistribution(test_t_df)\n",
    "t_fp_pdf, t_fp_cdf, t_fp_inverse = dist_pdf(t, df=test_t_df), dist_cdf(t, df=test_t_df), dist_inverse(t, df=test_t_df)"
   ]
  },
  {
   "cell_type": "markdown",
   "metadata": {},
   "source": [
    "This is the result of **Object Oriented Programming** approach"
   ]
  },
  {
   "cell_type": "code",
   "execution_count": 11,
   "metadata": {},
   "outputs": [
    {
     "name": "stdout",
     "output_type": "stream",
     "text": [
      "pdf of 1.645 0.10333092764232613\n",
      "cdf of 1.645 0.9484451174124768\n",
      "inverse of 0.95 1.66023432606575\n"
     ]
    }
   ],
   "source": [
    "print(f\"pdf of {test_value}\", t_oop.pdf(test_value))\n",
    "print(f\"cdf of {test_value}\", t_oop.cdf(test_value))\n",
    "print(f\"inverse of {test_p}\", t_oop.inverse(test_p))"
   ]
  },
  {
   "cell_type": "markdown",
   "metadata": {},
   "source": [
    "This is the result of **Functional Programming** approach"
   ]
  },
  {
   "cell_type": "code",
   "execution_count": 12,
   "metadata": {},
   "outputs": [
    {
     "name": "stdout",
     "output_type": "stream",
     "text": [
      "pdf of 1.645 0.10333092764232613\n",
      "cdf of 1.645 0.9484451174124768\n",
      "inverse of 0.95 1.66023432606575\n"
     ]
    }
   ],
   "source": [
    "print(f\"pdf of {test_value}\", t_fp_pdf(test_value))\n",
    "print(f\"cdf of {test_value}\", t_fp_cdf(test_value))\n",
    "print(f\"inverse of {test_p}\", t_fp_inverse(test_p))"
   ]
  },
  {
   "cell_type": "markdown",
   "metadata": {},
   "source": [
    "### f-Distribution"
   ]
  },
  {
   "cell_type": "markdown",
   "metadata": {},
   "source": [
    "For **Object Oriented Programming** Approach, we create a an extension class from `Distribution` and initialize them using `f` from `scipy.stats` and additional parameter `df1` and `df2` for Numerator and Denominator Degree of Freedom"
   ]
  },
  {
   "cell_type": "code",
   "execution_count": 13,
   "metadata": {},
   "outputs": [],
   "source": [
    "class fDistribution(Distribution):\n",
    "    def __init__(self, df1, df2):\n",
    "        super().__init__(f, dfn=df1, dfd=df2)"
   ]
  },
  {
   "cell_type": "markdown",
   "metadata": {},
   "source": [
    "We then again create class and functions for two approaches with `Numerator Degree of Freedom = 10` and `Denominator Degree of Freedom = 10`"
   ]
  },
  {
   "cell_type": "code",
   "execution_count": 14,
   "metadata": {},
   "outputs": [],
   "source": [
    "test_f_dfn = 10\n",
    "test_f_dfd = 10\n",
    "\n",
    "f_oop = fDistribution(test_f_dfn, test_f_dfd)\n",
    "f_fp_pdf, f_fp_cdf, f_fp_inverse = dist_pdf(f, dfn=test_f_dfn, dfd=test_f_dfd),\\\n",
    "                                dist_cdf(f, dfn=test_f_dfn, dfd=test_f_dfd),\\\n",
    "                                dist_inverse(f, dfn=test_f_dfn, dfd=test_f_dfd)"
   ]
  },
  {
   "cell_type": "markdown",
   "metadata": {},
   "source": [
    "This is the result of **Object Oriented Programming** Approach"
   ]
  },
  {
   "cell_type": "code",
   "execution_count": 15,
   "metadata": {},
   "outputs": [
    {
     "name": "stdout",
     "output_type": "stream",
     "text": [
      "pdf of 1.645 0.27526271864167623\n",
      "cdf of 1.645 0.7775043016623333\n",
      "inverse of 0.95 2.9782370160823213\n"
     ]
    }
   ],
   "source": [
    "print(f\"pdf of {test_value}\", f_oop.pdf(test_value))\n",
    "print(f\"cdf of {test_value}\", f_oop.cdf(test_value))\n",
    "print(f\"inverse of {test_p}\", f_oop.inverse(test_p))"
   ]
  },
  {
   "cell_type": "markdown",
   "metadata": {},
   "source": [
    "This is the result of **Functional Programming** Approach"
   ]
  },
  {
   "cell_type": "code",
   "execution_count": 16,
   "metadata": {},
   "outputs": [
    {
     "name": "stdout",
     "output_type": "stream",
     "text": [
      "pdf of 1.645 0.27526271864167623\n",
      "cdf of 1.645 0.7775043016623333\n",
      "inverse of 0.95 2.9782370160823213\n"
     ]
    }
   ],
   "source": [
    "print(f\"pdf of {test_value}\", f_fp_pdf(test_value))\n",
    "print(f\"cdf of {test_value}\", f_fp_cdf(test_value))\n",
    "print(f\"inverse of {test_p}\", f_fp_inverse(test_p))"
   ]
  },
  {
   "cell_type": "markdown",
   "metadata": {},
   "source": [
    "## Conclusion"
   ]
  },
  {
   "cell_type": "markdown",
   "metadata": {},
   "source": [
    "Both **Object Oriented Programming** and **Functional Programming** provides the same output for probability distribution although they take the different approaches. We can treat probability distributions as objects which has the methods or we can define pure functions on those probability density functions.\n",
    "\n",
    "However it is for the readers to decide which one is more simple / readable and maintainable. This is up to everyone's preference as both methods have advantages and disadvantages."
   ]
  }
 ],
 "metadata": {
  "kernelspec": {
   "display_name": "Python 3.7.3 ('base')",
   "language": "python",
   "name": "python3"
  },
  "language_info": {
   "codemirror_mode": {
    "name": "ipython",
    "version": 3
   },
   "file_extension": ".py",
   "mimetype": "text/x-python",
   "name": "python",
   "nbconvert_exporter": "python",
   "pygments_lexer": "ipython3",
   "version": "3.7.3"
  },
  "orig_nbformat": 4,
  "vscode": {
   "interpreter": {
    "hash": "b1e6b76b6e736d29445d5c5f779c1dafb0f59893c5766b7198bc0a87a8e7acf4"
   }
  }
 },
 "nbformat": 4,
 "nbformat_minor": 2
}
